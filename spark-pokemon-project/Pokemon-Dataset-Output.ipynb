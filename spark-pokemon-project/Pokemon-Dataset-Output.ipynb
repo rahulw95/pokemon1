{
 "cells": [
  {
   "cell_type": "code",
   "execution_count": 1,
   "id": "2b5d2990-4d35-4baa-851f-04f793815e77",
   "metadata": {},
   "outputs": [
    {
     "name": "stdout",
     "output_type": "stream",
     "text": [
      "+---+--------------------+------+------+-----+---+------+-------+-------+-------+-----+----------+---------+\n",
      "|  #|                Name|Type 1|Type 2|Total| HP|Attack|Defense|Sp. Atk|Sp. Def|Speed|Generation|Legendary|\n",
      "+---+--------------------+------+------+-----+---+------+-------+-------+-------+-----+----------+---------+\n",
      "|  1|           Bulbasaur| Grass|Poison|  318| 45|    49|     49|     65|     65|   45|         1|    false|\n",
      "|  2|             Ivysaur| Grass|Poison|  405| 60|    62|     63|     80|     80|   60|         1|    false|\n",
      "|  3|            Venusaur| Grass|Poison|  525| 80|    82|     83|    100|    100|   80|         1|    false|\n",
      "|  3|VenusaurMega Venu...| Grass|Poison|  625| 80|   100|    123|    122|    120|   80|         1|    false|\n",
      "|  4|          Charmander|  Fire|  NULL|  309| 39|    52|     43|     60|     50|   65|         1|    false|\n",
      "|  5|          Charmeleon|  Fire|  NULL|  405| 58|    64|     58|     80|     65|   80|         1|    false|\n",
      "|  6|           Charizard|  Fire|Flying|  534| 78|    84|     78|    109|     85|  100|         1|    false|\n",
      "|  6|CharizardMega Cha...|  Fire|Dragon|  634| 78|   130|    111|    130|     85|  100|         1|    false|\n",
      "|  6|CharizardMega Cha...|  Fire|Flying|  634| 78|   104|     78|    159|    115|  100|         1|    false|\n",
      "|  7|            Squirtle| Water|  NULL|  314| 44|    48|     65|     50|     64|   43|         1|    false|\n",
      "|  8|           Wartortle| Water|  NULL|  405| 59|    63|     80|     65|     80|   58|         1|    false|\n",
      "|  9|           Blastoise| Water|  NULL|  530| 79|    83|    100|     85|    105|   78|         1|    false|\n",
      "|  9|BlastoiseMega Bla...| Water|  NULL|  630| 79|   103|    120|    135|    115|   78|         1|    false|\n",
      "| 10|            Caterpie|   Bug|  NULL|  195| 45|    30|     35|     20|     20|   45|         1|    false|\n",
      "| 11|             Metapod|   Bug|  NULL|  205| 50|    20|     55|     25|     25|   30|         1|    false|\n",
      "| 12|          Butterfree|   Bug|Flying|  395| 60|    45|     50|     90|     80|   70|         1|    false|\n",
      "| 13|              Weedle|   Bug|Poison|  195| 40|    35|     30|     20|     20|   50|         1|    false|\n",
      "| 14|              Kakuna|   Bug|Poison|  205| 45|    25|     50|     25|     25|   35|         1|    false|\n",
      "| 15|            Beedrill|   Bug|Poison|  395| 65|    90|     40|     45|     80|   75|         1|    false|\n",
      "| 15|BeedrillMega Beed...|   Bug|Poison|  495| 65|   150|     40|     15|     80|  145|         1|    false|\n",
      "+---+--------------------+------+------+-----+---+------+-------+-------+-------+-----+----------+---------+\n",
      "only showing top 20 rows\n",
      "\n"
     ]
    }
   ],
   "source": [
    "from pyspark.sql import SparkSession\n",
    "\n",
    "# Initialize a Spark session\n",
    "spark = SparkSession.builder.appName(\"PokemonAnalysis\").getOrCreate()\n",
    "\n",
    "# Load the Pokémon dataset\n",
    "df = spark.read.csv('/app/Pokemon.csv', header=True, inferSchema=True)\n",
    "\n",
    "# Show the first few rows of the dataset\n",
    "df.show()\n"
   ]
  },
  {
   "cell_type": "code",
   "execution_count": 2,
   "id": "210965db-7adb-401e-956c-b3b438d5aa8e",
   "metadata": {},
   "outputs": [
    {
     "name": "stdout",
     "output_type": "stream",
     "text": [
      "+---+--------------------+------+-------+-----+---+------+-------+-------+-------+-----+----------+---------+\n",
      "|  #|                Name|Type 1| Type 2|Total| HP|Attack|Defense|Sp. Atk|Sp. Def|Speed|Generation|Legendary|\n",
      "+---+--------------------+------+-------+-----+---+------+-------+-------+-------+-----+----------+---------+\n",
      "|248|TyranitarMega Tyr...|  Rock|   Dark|  700|100|   164|    150|     95|    120|   71|         2|    false|\n",
      "|373|SalamenceMega Sal...|Dragon| Flying|  700| 95|   145|    130|    120|     90|  120|         3|    false|\n",
      "|376|MetagrossMega Met...| Steel|Psychic|  700| 80|   145|    150|    105|    110|  110|         3|    false|\n",
      "|445|GarchompMega Garc...|Dragon| Ground|  700|108|   170|    115|    120|     95|   92|         4|    false|\n",
      "|289|             Slaking|Normal|   NULL|  670|150|   160|    100|     95|     65|  100|         3|    false|\n",
      "+---+--------------------+------+-------+-----+---+------+-------+-------+-------+-----+----------+---------+\n",
      "\n"
     ]
    }
   ],
   "source": [
    "from pyspark.sql.functions import col\n",
    "\n",
    "# Filter non-legendary Pokémon and sort by Total stats\n",
    "top_5_strongest = df.filter(col(\"Legendary\") == \"False\").sort(col(\"Total\").desc()).limit(5)\n",
    "top_5_strongest.show()\n"
   ]
  },
  {
   "cell_type": "code",
   "execution_count": 3,
   "id": "16874c11-536f-4bbe-92d2-69a6330e5663",
   "metadata": {},
   "outputs": [
    {
     "name": "stdout",
     "output_type": "stream",
     "text": [
      "+------+-------+\n",
      "|Type 1| Avg_HP|\n",
      "+------+-------+\n",
      "|Dragon|83.3125|\n",
      "+------+-------+\n",
      "\n"
     ]
    }
   ],
   "source": [
    "from pyspark.sql.functions import avg\n",
    "\n",
    "# Group by Type 1, calculate average HP, and sort\n",
    "highest_avg_hp = df.groupBy(\"Type 1\").agg(avg(\"HP\").alias(\"Avg_HP\")).sort(col(\"Avg_HP\").desc()).limit(1)\n",
    "highest_avg_hp.show()\n"
   ]
  },
  {
   "cell_type": "code",
   "execution_count": 8,
   "id": "dba944a7-b78e-497f-b87e-bf7dfd27ed34",
   "metadata": {},
   "outputs": [
    {
     "name": "stdout",
     "output_type": "stream",
     "text": [
      "+-------+-----+\n",
      "|Sp. Atk|count|\n",
      "+-------+-----+\n",
      "|     60|   51|\n",
      "+-------+-----+\n",
      "\n"
     ]
    }
   ],
   "source": [
    "from pyspark.sql.functions import col\n",
    "\n",
    "# Assuming 'Sp. Atk' refers to a specific statistic, not a move\n",
    "# Corrected query with backticks around `Sp. Atk`\n",
    "most_common_sp_atk = df.groupBy(\"`Sp. Atk`\").count().sort(col(\"count\").desc()).limit(1)\n",
    "most_common_sp_atk.show()\n"
   ]
  }
 ],
 "metadata": {
  "kernelspec": {
   "display_name": "Python 3 (ipykernel)",
   "language": "python",
   "name": "python3"
  },
  "language_info": {
   "codemirror_mode": {
    "name": "ipython",
    "version": 3
   },
   "file_extension": ".py",
   "mimetype": "text/x-python",
   "name": "python",
   "nbconvert_exporter": "python",
   "pygments_lexer": "ipython3",
   "version": "3.11.6"
  }
 },
 "nbformat": 4,
 "nbformat_minor": 5
}
